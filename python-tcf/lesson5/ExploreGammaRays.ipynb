{
 "cells": [
  {
   "cell_type": "code",
   "execution_count": null,
   "id": "48e6f08e-5280-44d9-ba72-87807f4f0dc1",
   "metadata": {},
   "outputs": [],
   "source": [
    "import ROOT"
   ]
  },
  {
   "cell_type": "code",
   "execution_count": null,
   "id": "a2080522-107b-4cf3-8b55-49d02f9f4892",
   "metadata": {},
   "outputs": [],
   "source": [
    "file_gamma01 = ROOT.TFile.Open(\"./gamma_data/gamma01.root\")"
   ]
  },
  {
   "cell_type": "markdown",
   "id": "83a024d0-677a-4882-9988-7698ff67f66e",
   "metadata": {},
   "source": [
    "In questo primo esempio di utilizzo di pyROOT, vediamo innanzitutto l'uso di **file ROOT** (estensione _.root_) per leggere oggetti immagazzinati in memoria.\n",
    "* [ROOT files](https://root.cern/manual/root_files/) "
   ]
  },
  {
   "cell_type": "code",
   "execution_count": null,
   "id": "a33c43b4-a7d5-47b4-8200-7c07aa70323e",
   "metadata": {},
   "outputs": [],
   "source": [
    "file_gamma01.ls()"
   ]
  },
  {
   "cell_type": "code",
   "execution_count": null,
   "id": "3f5970ae-345d-4757-a855-597cef5423ec",
   "metadata": {},
   "outputs": [],
   "source": [
    "t_test = file_gamma01.Get(\"Events\")"
   ]
  },
  {
   "cell_type": "markdown",
   "id": "d6aa3360-f484-426f-8ca7-2068e0edf704",
   "metadata": {},
   "source": [
    "L'oggetto _t_test_ che abbiamo letto dal file è il **TTree**, un semplice **database** definito in ROOT.\n",
    "* i **campi** del database vengono detti **TBranches** (= rami di un albero)\n",
    "* i **record** del database vengono detti _entries_ oppure _eventi_ (termine ereditato dalla fisica delle particelle, dove ogni record è di solito una registrazione di un evento, come una collisione tra particelle, l'arrivo di un raggio cosmico ecc.)\n",
    "\n",
    "Documentazione su TTrees:  \n",
    "* [ROOT trees](https://root.cern/manual/trees/) "
   ]
  },
  {
   "cell_type": "code",
   "execution_count": null,
   "id": "9be94ffe-4459-4ba6-8370-73030fd2eb6c",
   "metadata": {},
   "outputs": [],
   "source": [
    "t_test.Print()"
   ]
  },
  {
   "cell_type": "code",
   "execution_count": null,
   "id": "02070eed-96bf-403c-bf4c-8849858ebe3e",
   "metadata": {},
   "outputs": [],
   "source": [
    "c = ROOT.TCanvas()     ## l'equivalente di 'figure' in matplotlib, spazio bianco dove mostrare i grafici"
   ]
  },
  {
   "cell_type": "code",
   "execution_count": null,
   "id": "2b01069b-5e21-45d8-9e40-643d99be9af2",
   "metadata": {},
   "outputs": [],
   "source": [
    "t_test.Draw(\"energyFit_Energy\")"
   ]
  },
  {
   "cell_type": "code",
   "execution_count": null,
   "id": "c80c2c88-5619-497d-afcd-5cb447143b3e",
   "metadata": {},
   "outputs": [],
   "source": [
    "c.Draw()"
   ]
  },
  {
   "cell_type": "code",
   "execution_count": null,
   "id": "db1341fb-53ef-4340-8e6d-1f0c9e8935c5",
   "metadata": {},
   "outputs": [],
   "source": [
    "chain = ROOT.TChain(\"Events\")"
   ]
  },
  {
   "cell_type": "code",
   "execution_count": null,
   "id": "81e6aa1f-ed52-4aa3-a6fd-116982946cd6",
   "metadata": {},
   "outputs": [],
   "source": [
    "chain.Add(\"./gamma_data/gamma*.root\")"
   ]
  },
  {
   "cell_type": "markdown",
   "id": "8435fdc7-365f-422a-8dcb-a711241f39a3",
   "metadata": {},
   "source": [
    "Documentazione su TChain:\n",
    "\n",
    "* [Tree chains](https://root.cern/manual/trees/#appending-ttrees-as-a-tchain)"
   ]
  },
  {
   "cell_type": "code",
   "execution_count": null,
   "id": "c93a8cec-43a9-4d0e-b734-b1785c2375dc",
   "metadata": {},
   "outputs": [],
   "source": [
    "chain.Draw(\"energyFit_Energy\")"
   ]
  },
  {
   "cell_type": "code",
   "execution_count": null,
   "id": "50554695-725b-4049-9051-3b2c04a27985",
   "metadata": {},
   "outputs": [],
   "source": [
    "c.Update()"
   ]
  },
  {
   "cell_type": "code",
   "execution_count": null,
   "id": "8511fbf4-774c-418e-8f54-e7116872858f",
   "metadata": {},
   "outputs": [],
   "source": [
    "c_reso_all = ROOT.TCanvas(\"c_reso_all\",\"Resolutions\",1200,600)\n",
    "                        # (nome, titolo, dimensioni orizzontali in pixel, dimensioni verticali in pixel)"
   ]
  },
  {
   "cell_type": "code",
   "execution_count": null,
   "id": "23318812-7d84-4b1e-86a9-59deb8a758e1",
   "metadata": {},
   "outputs": [],
   "source": [
    "c_reso_all.Divide(2,1)\n",
    "c_reso_all.cd(1);   chain.Draw(\"energyFit_Energy-mc_logEnergy\")\n",
    "c_reso_all.cd(2);   chain.Draw(\"mc_delAngle >> histo_all(100,0.,0.15)\")\n",
    "                    ## il segno '>>' scrive il risultato dell'operazione in un nuovo oggetto ROOT, di tipo definito nell'argomento n.3 \n",
    "                    ## default per una sola variabile graficata --> istogramma a una dimensione (ROOT.TH1F, ROOT.TH1D)"
   ]
  },
  {
   "cell_type": "code",
   "execution_count": null,
   "id": "fdb85b19-4f12-4e0d-902b-70dfb270d295",
   "metadata": {},
   "outputs": [],
   "source": [
    "c_reso_all.Draw()"
   ]
  },
  {
   "cell_type": "code",
   "execution_count": null,
   "id": "db58ae6b-47e3-4843-8e04-4235e88505af",
   "metadata": {},
   "outputs": [],
   "source": [
    "c1_scatter = ROOT.TCanvas(\"c1_scatter\",\"Energy scatter plots\",1000,1000)"
   ]
  },
  {
   "cell_type": "code",
   "execution_count": null,
   "id": "6e7f207b-e285-4281-b9c4-e4f159538d4a",
   "metadata": {},
   "outputs": [],
   "source": [
    "c1_scatter.Divide(3,3)"
   ]
  },
  {
   "cell_type": "code",
   "execution_count": null,
   "id": "b2740424-a618-4055-be03-2e6bf0ac6312",
   "metadata": {},
   "outputs": [],
   "source": [
    "variables = [\"angularFit_theta\",\"angularFit_phi\",\"energyFit_Energy\",\"energyFit_MinLike/energyFit_Ndof\",\"angularFit_chiSq/angularFit_Ndof\",\"event_nHit\",\n",
    "             \"energyFit_Xmax\",\"rec_CxPE40\",\"sqrt(rec_coreX*rec_coreX + rec_coreY*rec_coreY)\"]  "
   ]
  },
  {
   "cell_type": "code",
   "execution_count": null,
   "id": "8ef2b9c0-c181-4977-8fcf-532ff06fcfe8",
   "metadata": {},
   "outputs": [],
   "source": [
    "for var in variables:\n",
    "    c1_scatter.cd(variables.index(var)+1)  \n",
    "    chain.Draw(f'energyFit_Energy-mc_logEnergy:{var}')"
   ]
  },
  {
   "cell_type": "code",
   "execution_count": null,
   "id": "641ff564-4127-4bae-9737-766780ad507b",
   "metadata": {},
   "outputs": [],
   "source": [
    "c1_scatter.Draw()"
   ]
  },
  {
   "cell_type": "code",
   "execution_count": null,
   "id": "3a6fb8a0-44dc-4ea2-aac8-5bf1d2c8225a",
   "metadata": {},
   "outputs": [],
   "source": [
    "limits = {\n",
    "    \"angularFit_theta\" : [0.,1.2],\n",
    "    \"angularFit_phi\" : [-3.15,3.15],\n",
    "    \"energyFit_Energy\" : [2.,6.],\n",
    "    \"energyFit_MinLike/energyFit_Ndof\" : [0.,100.],\n",
    "    \"angularFit_chiSq/angularFit_Ndof\" : [0.,8.],\n",
    "    \"event_nHit\" : [0.,400.],\n",
    "    \"energyFit_Xmax\" : [250.,600.],\n",
    "    \"rec_CxPE40\" : [0.,200.],\n",
    "    \"sqrt(rec_coreX*rec_coreX + rec_coreY*rec_coreY)\" : [0.,700.]\n",
    "}    "
   ]
  },
  {
   "cell_type": "code",
   "execution_count": null,
   "id": "39570974-c3f4-4e22-8f38-6156e7ac429d",
   "metadata": {},
   "outputs": [],
   "source": [
    "c2_scatter = ROOT.TCanvas(\"c2_scatter\",\"Energy scatter plots with profiles\",1000,1000)"
   ]
  },
  {
   "cell_type": "code",
   "execution_count": null,
   "id": "df54d2ff-a231-4703-af7d-e12a9b647d10",
   "metadata": {},
   "outputs": [],
   "source": [
    "c2_scatter.Divide(3,3)"
   ]
  },
  {
   "cell_type": "code",
   "execution_count": null,
   "id": "9c443dda-c133-4e9e-8949-05a030b40e8c",
   "metadata": {},
   "outputs": [],
   "source": [
    "for var,lims in limits.items():\n",
    "    itemNum = variables.index(var)+1\n",
    "    c2_scatter.cd(itemNum)\n",
    "    chain.Draw(f'energyFit_Energy-mc_logEnergy:{var} >> histo_{itemNum}(50,{lims[0]},{lims[1]},50,-1.,1.2)')\n",
    "    thisHisto = ROOT.gDirectory.Get(f'histo_{itemNum}')\n",
    "    thisHisto.Draw('BOX')\n",
    "    thisProfile = thisHisto.ProfileX()\n",
    "    thisProfile.SetLineColor(ROOT.kRed);   thisProfile.SetLineWidth(3)   \n",
    "    thisProfile.Draw('E SAME')"
   ]
  },
  {
   "cell_type": "markdown",
   "id": "0b81c583-aed8-4e3f-8978-c020dc0b915d",
   "metadata": {},
   "source": [
    "Cose da notare:\n",
    "* Il default per il segno `>>` quando si fa uno scatter plot di due variabili è un istogramma a **due** dimensioni (ROOT.TH2F ecc.)\n",
    "* Per **profilo** di un istogramma a due dimensioni lungo l'asse x, si intende un grafico dove i punti hanno come ascissa i centri delle classi in quella direzione mentre come ordinata la **media** dei valori in y di quella classe.\n",
    "\n",
    "Opzioni di disegno degli istogrammi:\n",
    "* [Opzioni](https://root.cern/doc/v628/classTHistPainter.html#HP01)"
   ]
  },
  {
   "cell_type": "code",
   "execution_count": null,
   "id": "d7dd98b5-c12d-4cca-b0e5-bdce47894218",
   "metadata": {},
   "outputs": [],
   "source": [
    "c2_scatter.Draw()"
   ]
  },
  {
   "cell_type": "code",
   "execution_count": null,
   "id": "4c41e31d-2e76-4568-ab08-ad696bcbb734",
   "metadata": {},
   "outputs": [],
   "source": [
    "import numpy as np\n",
    "\n",
    "pvalue = np.array([0.68])\n",
    "quantile = np.array([0.])\n",
    "histo_all = ROOT.gDirectory.Get(\"histo_all\")\n",
    "histo_all.GetQuantiles(1,quantile,pvalue)\n",
    "\n",
    "print (f'68% delAngle = {quantile[0]:.4f} radians')"
   ]
  },
  {
   "cell_type": "code",
   "execution_count": null,
   "id": "8ed5b293-10cf-4ba4-986e-53c22a2f694f",
   "metadata": {},
   "outputs": [],
   "source": [
    "c3_scatter = ROOT.TCanvas(\"c3_scatter\",\"DelAngle scatter plots with profiles\",1000,1000)"
   ]
  },
  {
   "cell_type": "code",
   "execution_count": null,
   "id": "eefb1ac2-390f-4042-baee-a78ba0b1b4e8",
   "metadata": {},
   "outputs": [],
   "source": [
    "c3_scatter.Divide(3,3)"
   ]
  },
  {
   "cell_type": "code",
   "execution_count": null,
   "id": "811784cb-2060-45e4-8e27-617fd7433eed",
   "metadata": {},
   "outputs": [],
   "source": [
    "for var,lims in limits.items():\n",
    "    itemNum = variables.index(var)+1\n",
    "    c3_scatter.cd(itemNum)\n",
    "    chain.Draw(f'mc_delAngle:{var} >> histo_{itemNum}(50,{lims[0]},{lims[1]},50,0.,0.3)')\n",
    "    thisHisto = ROOT.gDirectory.Get(f'histo_{itemNum}')\n",
    "    thisHisto.Draw('BOX')\n",
    "    thisProfile = thisHisto.ProfileX()\n",
    "    thisProfile.SetLineColor(ROOT.kRed);   thisProfile.SetLineWidth(3)   \n",
    "    thisProfile.Draw('E SAME')"
   ]
  },
  {
   "cell_type": "code",
   "execution_count": null,
   "id": "28a31785-d7eb-473e-917b-c2f8bf7db8f9",
   "metadata": {},
   "outputs": [],
   "source": [
    "c3_scatter.Draw()"
   ]
  },
  {
   "cell_type": "code",
   "execution_count": null,
   "id": "aebd05ed-e9ea-43ac-a7d6-31912b40ee42",
   "metadata": {},
   "outputs": [],
   "source": [
    "c_reso_sel = ROOT.TCanvas(\"c_reso_sel\",\"Improved resolutions\",1200,600)\n",
    "c_reso_sel.Divide(2,1)"
   ]
  },
  {
   "cell_type": "code",
   "execution_count": null,
   "id": "8f0fc5ca-eda3-4bb2-897d-31ed2f5c0581",
   "metadata": {},
   "outputs": [],
   "source": [
    "cuts = {\n",
    "    \"angularFit_theta\" : [0.,0.6],\n",
    "    \"angularFit_phi\" : [-3.15,3.15],\n",
    "    \"energyFit_Energy\" : [2.6,5.2],\n",
    "    \"energyFit_MinLike/energyFit_Ndof\" : [0.,70.],\n",
    "    \"angularFit_chiSq/angularFit_Ndof\" : [0.6,2.2],\n",
    "    \"event_nHit\" : [45.,10000.],\n",
    "    \"energyFit_Xmax\" : [250.,600.],\n",
    "    \"rec_CxPE40\" : [3.,20000.],\n",
    "    \"sqrt(rec_coreX*rec_coreX + rec_coreY*rec_coreY)\" : [0.,600.]\n",
    "}    "
   ]
  },
  {
   "cell_type": "code",
   "execution_count": null,
   "id": "5bcfbbcd-f227-48a1-8d2e-5e4ac9ee9d69",
   "metadata": {},
   "outputs": [],
   "source": [
    "longcutstring = ''\n",
    "for var,cutvals in cuts.items() :\n",
    "    thiscutstring = ' && '+var+' > '+str(cutvals[0])+' && '+var+' < '+str(cutvals[1])\n",
    "    longcutstring += thiscutstring\n",
    "longcutstring = longcutstring[4:]    # remove initial &&\n",
    "print (longcutstring)"
   ]
  },
  {
   "cell_type": "code",
   "execution_count": null,
   "id": "5a5e793e-656d-4f0d-aa4e-73def86ee57c",
   "metadata": {},
   "outputs": [],
   "source": [
    "chain.Draw(\">> elist\", longcutstring, \"entrylist\")\n",
    "elist = ROOT.gDirectory.Get(\"elist\")"
   ]
  },
  {
   "cell_type": "markdown",
   "id": "40c64826-51da-4cf7-b647-293603dfe782",
   "metadata": {},
   "source": [
    "Come selezionare una parte degli eventi di un TTree/TChain:\n",
    "\n",
    "* [La TEntryList](https://root.cern/manual/trees/#selecting-a-subset-of-entries-to-be-read)"
   ]
  },
  {
   "cell_type": "code",
   "execution_count": null,
   "id": "5a9408b7-0c84-4de9-8695-4bad16fbb0e0",
   "metadata": {},
   "outputs": [],
   "source": [
    "chain.SetEntryList(elist)"
   ]
  },
  {
   "cell_type": "code",
   "execution_count": null,
   "id": "362bec33-d0aa-4478-ac37-8c3226ed247b",
   "metadata": {},
   "outputs": [],
   "source": [
    "c_reso_sel.cd(1)   \n",
    "chain.Draw(\"energyFit_Energy-mc_logEnergy\")"
   ]
  },
  {
   "cell_type": "code",
   "execution_count": null,
   "id": "0ece4fba-8d94-4277-9e14-fca608c95485",
   "metadata": {},
   "outputs": [],
   "source": [
    "c_reso_sel.cd(2)   \n",
    "chain.Draw(\"mc_delAngle >> histo_sel(100,0.,0.05)\")"
   ]
  },
  {
   "cell_type": "code",
   "execution_count": null,
   "id": "41e6a887-e794-418f-bd4e-8dd2663e9f75",
   "metadata": {},
   "outputs": [],
   "source": [
    "c_reso_sel.Draw()"
   ]
  },
  {
   "cell_type": "code",
   "execution_count": null,
   "id": "f59b8249-0d68-43e0-8cf4-d19d6b8bd6cc",
   "metadata": {},
   "outputs": [],
   "source": [
    "histo_sel = ROOT.gDirectory.Get(\"histo_sel\")\n",
    "histo_sel.GetQuantiles(1,quantile,pvalue)\n",
    "print (f'68% delAngle = {quantile[0]:.4f} radians')"
   ]
  },
  {
   "cell_type": "code",
   "execution_count": null,
   "id": "c9d36195-63d1-447a-9906-d60b5ccf2b6e",
   "metadata": {},
   "outputs": [],
   "source": []
  }
 ],
 "metadata": {
  "kernelspec": {
   "display_name": "Python 3 (ipykernel)",
   "language": "python",
   "name": "python3"
  },
  "language_info": {
   "codemirror_mode": {
    "name": "ipython",
    "version": 3
   },
   "file_extension": ".py",
   "mimetype": "text/x-python",
   "name": "python",
   "nbconvert_exporter": "python",
   "pygments_lexer": "ipython3",
   "version": "3.12.8"
  }
 },
 "nbformat": 4,
 "nbformat_minor": 5
}
