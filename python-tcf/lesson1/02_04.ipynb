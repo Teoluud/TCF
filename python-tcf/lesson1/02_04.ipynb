{
 "cells": [
  {
   "cell_type": "markdown",
   "metadata": {
    "slideshow": {
     "slide_type": "slide"
    }
   },
   "source": [
    "# Funzione `print` e virgolette\n",
    "* La **funzione `print`** mostra il suo/i suoi argomenti come una linea di testo. "
   ]
  },
  {
   "cell_type": "code",
   "execution_count": null,
   "metadata": {},
   "outputs": [],
   "source": [
    "print('Welcome to Python!')"
   ]
  },
  {
   "cell_type": "markdown",
   "metadata": {
    "slideshow": {
     "slide_type": "slide"
    }
   },
   "source": [
    "* Le stringhe di solito si mettono in virgolette singole (`'`) ma sono accettate anche le doppie (`\"`)."
   ]
  },
  {
   "cell_type": "code",
   "execution_count": null,
   "metadata": {},
   "outputs": [],
   "source": [
    "print(\"Welcome to Python!\")"
   ]
  },
  {
   "cell_type": "markdown",
   "metadata": {},
   "source": [
    "* Al termine `print` posiziona il cursore a schermo all'inizio della linea successiva.\n",
    "* Una virgola tra gli argomenti (che possono essere anche variabili) li visualizza tutti di seguito separati da spazi."
   ]
  },
  {
   "cell_type": "code",
   "execution_count": null,
   "metadata": {},
   "outputs": [],
   "source": [
    "a = 'Python!'\n",
    "print('Welcome', 'to', a)\n",
    "print('La somma di 7 e 3 vale', 7 + 3)"
   ]
  },
  {
   "cell_type": "markdown",
   "metadata": {
    "slideshow": {
     "slide_type": "slide"
    }
   },
   "source": [
    "### Caratteri di interruzione linea e di escape\n",
    "* Un backslash (`\\`) può essere usato da solo (**carattere di continuazione istruzione**) o all'inizio di una stringa, che in quel caso può assumere un significato particolare e non viene visualizzata come è scritta o viceversa (**carattere di escape**). \n"
   ]
  },
  {
   "cell_type": "code",
   "execution_count": null,
   "metadata": {},
   "outputs": [],
   "source": [
    "print('this is a longer string, so we \\\n",
    "split it over two lines')\n",
    "print('Welcome\\nto\\n\\nPython!')"
   ]
  },
  {
   "cell_type": "markdown",
   "metadata": {
    "slideshow": {
     "slide_type": "slide"
    }
   },
   "source": [
    "### Sequenze di escape\n",
    "| Sequenza di escape | Descrizione\n",
    "| :------- | :------------\n",
    "| `\\n` | Carattere di \"a capo\" + sposta il cursore all'inizio della linea successiva \n",
    "| `\\t` | Carattere di tabulazione orizzontale + sposta il cursore all'inizio del tab successivo. \n",
    "| `\\\\` | Inserimento di un carattere backslash in una stringa.\n",
    "| `\\\"` | Inserimento di un carattere virgoletta doppia in una stringa.\n",
    "| `\\'` | Inserimento di un carattere virgoletta singola in una stringa."
   ]
  },
  {
   "cell_type": "markdown",
   "metadata": {},
   "source": [
    "------\n",
    "&copy;1992&ndash;2020 by Pearson Education, Inc. All Rights Reserved. This content is based on Chapter 2 of the book [**Intro to Python for Computer Science and Data Science: Learning to Program with AI, Big Data and the Cloud**](https://amzn.to/2VvdnxE).\n",
    "\n",
    "DISCLAIMER: The authors and publisher of this book have used their \n",
    "best efforts in preparing the book. These efforts include the \n",
    "development, research, and testing of the theories and programs \n",
    "to determine their effectiveness. The authors and publisher make \n",
    "no warranty of any kind, expressed or implied, with regard to these \n",
    "programs or to the documentation contained in these books. The authors \n",
    "and publisher shall not be liable in any event for incidental or \n",
    "consequential damages in connection with, or arising out of, the \n",
    "furnishing, performance, or use of these programs.                  "
   ]
  }
 ],
 "metadata": {
  "celltoolbar": "Slideshow",
  "kernelspec": {
   "display_name": "Python 3 (ipykernel)",
   "language": "python",
   "name": "python3"
  },
  "language_info": {
   "codemirror_mode": {
    "name": "ipython",
    "version": 3
   },
   "file_extension": ".py",
   "mimetype": "text/x-python",
   "name": "python",
   "nbconvert_exporter": "python",
   "pygments_lexer": "ipython3",
   "version": "3.12.8"
  }
 },
 "nbformat": 4,
 "nbformat_minor": 4
}
