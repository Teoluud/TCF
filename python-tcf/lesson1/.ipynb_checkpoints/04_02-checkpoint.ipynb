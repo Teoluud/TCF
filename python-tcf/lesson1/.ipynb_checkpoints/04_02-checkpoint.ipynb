{
 "cells": [
  {
   "cell_type": "markdown",
   "metadata": {},
   "source": [
    "# Definire le funzioni\n",
    "* Ad esempio questa è la funzione `square` che calcola il quadrato del suo argomento."
   ]
  },
  {
   "cell_type": "code",
   "execution_count": null,
   "metadata": {},
   "outputs": [],
   "source": [
    "def square(number):\n",
    "    \"\"\"Calculate the square of number.\"\"\"\n",
    "    return number ** 2"
   ]
  },
  {
   "cell_type": "code",
   "execution_count": null,
   "metadata": {},
   "outputs": [],
   "source": [
    "square(7)"
   ]
  },
  {
   "cell_type": "code",
   "execution_count": null,
   "metadata": {},
   "outputs": [],
   "source": [
    "square(2.5)"
   ]
  },
  {
   "cell_type": "markdown",
   "metadata": {},
   "source": [
    "* Chiamare `square` con un argomento non numerico come `'ciao'` causa un `TypeError` l'operatore potenza (`**`) funziona solo con valori numerici."
   ]
  },
  {
   "cell_type": "markdown",
   "metadata": {},
   "source": [
    "### Definire una funzione personalizzata\n",
    "* La definizione inizia con la **parola chiave `def`**, seguita dal nome della funzione, eventualmente una lista di parametri tra parentesi e i due punti (`:`). \n",
    "* Le funzioni dovrebbero iniziare con lettera minuscola e con le parole separate da underscores (`_`)\n",
    "* Le parentesi necessarie contengono la **lista di parametri**. Delle parentesi vuote significano nessun parametro.\n",
    "* Le linee indentate dopo i due punti (`:`) sono il **blocco** della funzione\n",
    "    * Consiste di una stringa documentale opzionale (\"docstring\") seguita dalle istruzioni che la funzione deve eseguire."
   ]
  },
  {
   "cell_type": "markdown",
   "metadata": {},
   "source": [
    "### Restituire il risultato al chiamante\n",
    "* La *chiamata* di una funzione è la sua esecuzione nel programma principale, può essere anche all'interno di altre espressioni."
   ]
  },
  {
   "cell_type": "code",
   "execution_count": null,
   "metadata": {},
   "outputs": [],
   "source": [
    "print('The square of 7 is', square(7))"
   ]
  },
  {
   "cell_type": "markdown",
   "metadata": {},
   "source": [
    "* Tre modi di restituire il risultato della funzione al momento della chiamata:\n",
    "    * **`return`** seguito da un'espressione\n",
    "    * **`return`** senza un'espressione ritorna automaticamente **`None`**&mdash;rappresenta l'**assenza di un valore** e **rende sempre `False` nelle condizioni**.\n",
    "    * **Senza un'istruzione `return` il risultato è sempre `None`**.\n"
   ]
  },
  {
   "cell_type": "markdown",
   "metadata": {},
   "source": [
    "### Cosa succede quando si chiama una funzione\n",
    "* I parametri esistono solo nel momento in cui la funzione è chiamata. \n",
    "* Sono creati quando vengono passati gli argomenti e distrutti quando la funzione restituisce al chiamante il suo risultato.\n",
    "* I parametri di una funzione e le variabili definite all'interno sono **variabili locali**."
   ]
  },
  {
   "cell_type": "markdown",
   "metadata": {},
   "source": [
    "### Funzioni con molti parametri e parametri di default"
   ]
  },
  {
   "cell_type": "code",
   "execution_count": null,
   "metadata": {},
   "outputs": [],
   "source": [
    "def add_three(na,nb,nc):\n",
    "    \"\"\"Calculate the sum of three numbers.\"\"\"\n",
    "    return na+nb+nc"
   ]
  },
  {
   "cell_type": "code",
   "execution_count": null,
   "metadata": {},
   "outputs": [],
   "source": [
    "add_three(1,2,3)"
   ]
  },
  {
   "cell_type": "code",
   "execution_count": null,
   "metadata": {},
   "outputs": [],
   "source": [
    "add_three(1,2)"
   ]
  },
  {
   "cell_type": "code",
   "execution_count": null,
   "metadata": {},
   "outputs": [],
   "source": [
    "def add_three_again(na,nb=2,nc=3):\n",
    "    \"\"\"Calculate the sum of three numbers.\"\"\"\n",
    "    return na+nb+nc"
   ]
  },
  {
   "cell_type": "code",
   "execution_count": null,
   "metadata": {},
   "outputs": [],
   "source": [
    "add_three_again(1,2,3)"
   ]
  },
  {
   "cell_type": "code",
   "execution_count": null,
   "metadata": {},
   "outputs": [],
   "source": [
    "add_three_again(1)"
   ]
  },
  {
   "cell_type": "code",
   "execution_count": null,
   "metadata": {},
   "outputs": [],
   "source": [
    "add_three_again(1,nc=4)"
   ]
  },
  {
   "cell_type": "markdown",
   "metadata": {},
   "source": [
    "## ALTRI APPROFONDIMENTI\n",
    "\n",
    "### Accessing a Function’s Docstring Via IPython’s Help Mechanism \n",
    "* Following a function's name with `?` in IPython displays its docstring:"
   ]
  },
  {
   "cell_type": "code",
   "execution_count": null,
   "metadata": {},
   "outputs": [],
   "source": [
    "square?"
   ]
  },
  {
   "cell_type": "markdown",
   "metadata": {},
   "source": [
    "* If the function’s source code is accessible from IPython, `??` displays the function’s docstring and full source-code definition:"
   ]
  },
  {
   "cell_type": "code",
   "execution_count": null,
   "metadata": {},
   "outputs": [],
   "source": [
    "square??"
   ]
  },
  {
   "cell_type": "markdown",
   "metadata": {},
   "source": [
    "------\n",
    "&copy;1992&ndash;2020 by Pearson Education, Inc. All Rights Reserved. This content is based on Chapter 4 of the book [**Intro to Python for Computer Science and Data Science: Learning to Program with AI, Big Data and the Cloud**](https://amzn.to/2VvdnxE).\n",
    "\n",
    "DISCLAIMER: The authors and publisher of this book have used their \n",
    "best efforts in preparing the book. These efforts include the \n",
    "development, research, and testing of the theories and programs \n",
    "to determine their effectiveness. The authors and publisher make \n",
    "no warranty of any kind, expressed or implied, with regard to these \n",
    "programs or to the documentation contained in these books. The authors \n",
    "and publisher shall not be liable in any event for incidental or \n",
    "consequential damages in connection with, or arising out of, the \n",
    "furnishing, performance, or use of these programs.                  "
   ]
  }
 ],
 "metadata": {
  "kernelspec": {
   "display_name": "Python 3 (ipykernel)",
   "language": "python",
   "name": "python3"
  },
  "language_info": {
   "codemirror_mode": {
    "name": "ipython",
    "version": 3
   },
   "file_extension": ".py",
   "mimetype": "text/x-python",
   "name": "python",
   "nbconvert_exporter": "python",
   "pygments_lexer": "ipython3",
   "version": "3.12.7"
  }
 },
 "nbformat": 4,
 "nbformat_minor": 4
}
