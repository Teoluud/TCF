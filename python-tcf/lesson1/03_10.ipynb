{
 "cells": [
  {
   "cell_type": "markdown",
   "metadata": {},
   "source": [
    "# Formattazione di stringhe\n",
    "* Una **f-string** (o stringa formattata) permette di inserire valori di variabili nelle stringhe.\n",
    "* La lettera f prima dell'inizio della stringa indica che è una f-string.\n",
    "* Il punto dove inserire i valori è indicato da parentesi graffe ({ e }). \n",
    "* Per esempio `{average}` converte il valore della variabile `average` con una rappresentazione a stringa, poi rimpiazza `{average}` con il corrispondente **testo sostitutivo**. \n",
    "* Le espressioni di testo sostitutivo possono essere variabili, valori o altro.\n",
    "* Quello che si trova dopo \":\" contiene invece **specifiche di formato** (es. numero di cifre decimali da mostrare)."
   ]
  },
  {
   "cell_type": "code",
   "execution_count": null,
   "metadata": {},
   "outputs": [],
   "source": [
    "# Average program with three numbers\n",
    "\n",
    "a, b, c = 27, 28, 24\n",
    "\n",
    "average = (a + b + c) / 3\n",
    "print(f'Average is {average}')\n",
    "print(f'Average is {average:.1f}')"
   ]
  },
  {
   "cell_type": "markdown",
   "metadata": {},
   "source": [
    "------\n",
    "&copy;1992&ndash;2020 by Pearson Education, Inc. All Rights Reserved. This content is based on Chapter 3 of the book [**Intro to Python for Computer Science and Data Science: Learning to Program with AI, Big Data and the Cloud**](https://amzn.to/2VvdnxE).\n",
    "\n",
    "DISCLAIMER: The authors and publisher of this book have used their \n",
    "best efforts in preparing the book. These efforts include the \n",
    "development, research, and testing of the theories and programs \n",
    "to determine their effectiveness. The authors and publisher make \n",
    "no warranty of any kind, expressed or implied, with regard to these \n",
    "programs or to the documentation contained in these books. The authors \n",
    "and publisher shall not be liable in any event for incidental or \n",
    "consequential damages in connection with, or arising out of, the \n",
    "furnishing, performance, or use of these programs.                  "
   ]
  }
 ],
 "metadata": {
  "kernelspec": {
   "display_name": "Python 3 (ipykernel)",
   "language": "python",
   "name": "python3"
  },
  "language_info": {
   "codemirror_mode": {
    "name": "ipython",
    "version": 3
   },
   "file_extension": ".py",
   "mimetype": "text/x-python",
   "name": "python",
   "nbconvert_exporter": "python",
   "pygments_lexer": "ipython3",
   "version": "3.12.8"
  }
 },
 "nbformat": 4,
 "nbformat_minor": 4
}
